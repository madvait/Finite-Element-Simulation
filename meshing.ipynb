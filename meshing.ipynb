{
 "cells": [
  {
   "cell_type": "code",
   "execution_count": 1,
   "id": "0cf6ce1e-51df-49d4-85fc-ef1aef52a18b",
   "metadata": {},
   "outputs": [],
   "source": [
    "import numpy as np\n",
    "from sympy import *\n",
    "from scipy.spatial import Delaunay\n",
    "import matplotlib.pyplot as plt\n"
   ]
  },
  {
   "cell_type": "code",
   "execution_count": 25,
   "id": "410f72ea-87f4-4ba4-86f9-d83a61f59d49",
   "metadata": {},
   "outputs": [],
   "source": [
    "class Trielement:\n",
    "    def __init__(self,x1,x2,x3):\n",
    "        pass"
   ]
  },
  {
   "cell_type": "code",
   "execution_count": 27,
   "id": "52b89304-f094-40c3-ae1c-5a7eda30ded2",
   "metadata": {},
   "outputs": [],
   "source": [
    "#given a list of co-ordinates as nodes, this class creates a mesh for the given set of nodes and makes element objects for each\n",
    "class Mesh:\n",
    "    def __init__(self,node_set):   \n",
    "        self.node_set = np.array(node_set)\n",
    "        self.neumann = []\n",
    "        self.dirichlet = []\n",
    "        self.element_list = []\n",
    "        self.global_stiffness_matrix = []\n",
    "\n",
    "\n",
    "    def element_objects(self): #creates triangular elements out of the node_set points\n",
    "        tri = Delaunay(self.node_set)\n",
    "        nodes = tri.simplices\n",
    "        element_set = self.node_set[nodes]\n",
    "        num_elements = np.shape(element_set)[0]\n",
    "        #element_list = []\n",
    "\n",
    "        for i in range(num_elements):\n",
    "            self.element_list.append(Trielement(element_set[i,0],element_set[i,1],element_set[i,2]))\n",
    "        return self.element_list\n",
    "\n",
    "    def get_element(self,i): # and auxillary method to help make a set of three points that form elements using delaunay triangulation\n",
    "        #tri = Delaunay(self.node_set)\n",
    "        #nodes = tri.simplices\n",
    "        #element_set = self.node_set[nodes]\n",
    "        #return element_set[i]\n",
    "        element = self.element_list[i]\n",
    "        x1 = np.array([element.x1 , element.y1])\n",
    "        x2 = np.array([element.x2 , element.y2])\n",
    "        x3 = np.array([element.x3 , element.y3])\n",
    "        element_coordinates = np.array([x1,x2,x3])\n",
    "        return element_coordinates\n",
    "\n",
    "\n",
    "    def plot_mesh(self): #method to plot the mesh and the node_numbers\n",
    "        plt.triplot(self.node_set[:,0], self.node_set[:,1], Delaunay(self.node_set).simplices)\n",
    "        plt.plot(self.node_set[:,0], self.node_set[:,1], 'o')\n",
    "        \n",
    "        for i, (x, y) in enumerate(self.node_set):\n",
    "            plt.text(x, y, f'{i}', color='blue', ha='center', va='center')\n",
    "\n",
    "        for j, element in enumerate(Delaunay(self.node_set).simplices):\n",
    "            x_centroid = np.mean(self.node_set[element, 0])\n",
    "            y_centroid = np.mean(self.node_set[element, 1])\n",
    "            plt.text(x_centroid, y_centroid, f'{j}', color='red', ha='center', va='center')\n",
    "\n",
    "        plt.xlabel(\"X Coordinate\")\n",
    "        plt.ylabel(\"Y Coordinate\")\n",
    "        plt.title(\"Finite Element Mesh with Node and Element Numbers\")\n",
    "        plt.show()\n",
    "\n",
    "    def neumann_to_element(self,i,j,fx,fy): #sets forces on elements with nodes i and j\n",
    "        pass\n",
    "        "
   ]
  },
  {
   "cell_type": "code",
   "execution_count": 28,
   "id": "8ad90740-0341-4747-a0f1-bd0a9d7561ac",
   "metadata": {},
   "outputs": [],
   "source": [
    "mesh = Mesh([[1, 0],[0, 1],[0, 0],[1 ,1],[2,0],[2,1],[3,1],[3,0]])"
   ]
  },
  {
   "cell_type": "code",
   "execution_count": 29,
   "id": "b8620684-0b80-4aa0-ae0b-7c916656ce22",
   "metadata": {},
   "outputs": [
    {
     "data": {
      "text/plain": [
       "array([1, 0])"
      ]
     },
     "execution_count": 29,
     "metadata": {},
     "output_type": "execute_result"
    }
   ],
   "source": [
    "mesh.node_set[0]"
   ]
  },
  {
   "cell_type": "code",
   "execution_count": 31,
   "id": "cd3d813b-ce95-4b61-8001-7756a800e121",
   "metadata": {},
   "outputs": [
    {
     "data": {
      "text/plain": [
       "[<__main__.Trielement at 0x2417b9385f0>,\n",
       " <__main__.Trielement at 0x2417dcb31d0>,\n",
       " <__main__.Trielement at 0x2417dc9e660>,\n",
       " <__main__.Trielement at 0x2417dc9f890>,\n",
       " <__main__.Trielement at 0x2417b9c9700>,\n",
       " <__main__.Trielement at 0x2417dcd6c60>]"
      ]
     },
     "execution_count": 31,
     "metadata": {},
     "output_type": "execute_result"
    }
   ],
   "source": [
    "mesh.element_objects()"
   ]
  },
  {
   "cell_type": "code",
   "execution_count": null,
   "id": "ca26956f-f28f-4f21-ab83-d0c6d74fa3f9",
   "metadata": {},
   "outputs": [],
   "source": []
  }
 ],
 "metadata": {
  "kernelspec": {
   "display_name": "Python 3 (ipykernel)",
   "language": "python",
   "name": "python3"
  },
  "language_info": {
   "codemirror_mode": {
    "name": "ipython",
    "version": 3
   },
   "file_extension": ".py",
   "mimetype": "text/x-python",
   "name": "python",
   "nbconvert_exporter": "python",
   "pygments_lexer": "ipython3",
   "version": "3.12.5"
  }
 },
 "nbformat": 4,
 "nbformat_minor": 5
}
